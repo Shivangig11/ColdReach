{
 "cells": [
  {
   "cell_type": "code",
   "execution_count": 1,
   "id": "b6c28573-7da7-4f56-bced-0252a546b06d",
   "metadata": {},
   "outputs": [],
   "source": [
    "#pip install chromadb"
   ]
  },
  {
   "cell_type": "code",
   "execution_count": 3,
   "id": "a254b1fe-c87d-4dda-991a-aefee0b7f038",
   "metadata": {},
   "outputs": [],
   "source": [
    "import chromadb\n",
    "\n",
    "client = chromadb.Client()\n",
    "collection = client.get_or_create_collection(name='my_collection')\n"
   ]
  },
  {
   "cell_type": "code",
   "execution_count": null,
   "id": "6aa7532f-8861-4fe3-8fa8-d155849f914d",
   "metadata": {},
   "outputs": [],
   "source": [
    "collection.add(\n",
    "    documents=[\n",
    "        \"This document is about grades\",\n",
    "        \"This document is about skills\"\n",
    "    ],\n",
    "    ids=['id1','id2']\n",
    ")"
   ]
  },
  {
   "cell_type": "code",
   "execution_count": null,
   "id": "348edd45-533f-4e60-bfc8-97414a71615d",
   "metadata": {},
   "outputs": [],
   "source": [
    "all_docs=collection.get()\n",
    "all_docs"
   ]
  },
  {
   "cell_type": "code",
   "execution_count": null,
   "id": "249548f9-205f-4c0c-9626-645b38d6e6d3",
   "metadata": {},
   "outputs": [],
   "source": [
    "documents=collection.get(ids=[\"id1\"])\n",
    "documents"
   ]
  },
  {
   "cell_type": "code",
   "execution_count": null,
   "id": "fb413cef-14cf-46df-b75d-d026236431a3",
   "metadata": {},
   "outputs": [],
   "source": [
    "collection.query(\n",
    "    query_texts=['"
   ]
  }
 ],
 "metadata": {
  "kernelspec": {
   "display_name": "Python 3 (ipykernel)",
   "language": "python",
   "name": "python3"
  },
  "language_info": {
   "codemirror_mode": {
    "name": "ipython",
    "version": 3
   },
   "file_extension": ".py",
   "mimetype": "text/x-python",
   "name": "python",
   "nbconvert_exporter": "python",
   "pygments_lexer": "ipython3",
   "version": "3.12.4"
  }
 },
 "nbformat": 4,
 "nbformat_minor": 5
}
